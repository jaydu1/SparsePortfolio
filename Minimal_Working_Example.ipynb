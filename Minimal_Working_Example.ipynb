{
 "cells": [
  {
   "cell_type": "markdown",
   "id": "da011e6a",
   "metadata": {},
   "source": [
    "In this notebook, we provide minimal working example for running our algorithm.\n"
   ]
  },
  {
   "cell_type": "markdown",
   "id": "e30cdfc5",
   "metadata": {},
   "source": [
    "We simulate stock relative price data with $n=20$ days and $d=100$ stocks.\n",
    "The generated data $X=[X_1,\\ldots,X_{n}]^{\\top}$."
   ]
  },
  {
   "cell_type": "code",
   "execution_count": 8,
   "id": "e7a0af99",
   "metadata": {},
   "outputs": [],
   "source": [
    "import numpy as np\n",
    "n = 20\n",
    "d = 100\n",
    "np.random.seed(0)\n",
    "X = np.random.rand(n,d) + 0.5"
   ]
  },
  {
   "cell_type": "code",
   "execution_count": 9,
   "id": "9e95b28b",
   "metadata": {},
   "outputs": [
    {
     "data": {
      "text/plain": [
       "(20, 100)"
      ]
     },
     "execution_count": 9,
     "metadata": {},
     "output_type": "execute_result"
    }
   ],
   "source": [
    "X.shape"
   ]
  },
  {
   "cell_type": "markdown",
   "id": "a236f2f7",
   "metadata": {},
   "source": [
    "Our algorithm is designed to solve cardinality constrained problem on $\\mathbb{S}^{d-1}=\\{v\\in\\mathbb{R}^d:\\|v\\|_1=1,v\\succeq 0\\}$\n",
    "$$\\min\\limits_{w\\in\\mathbb{S}^{d-1},\\|w\\|_0\\leq s} -\\frac{1}{n}\\sum\\limits_{i=1}^n u(w^{\\top}X_i),$$\n",
    "by solving an easier $l_1$-regularized problem\n",
    "$$\\min\\limits_{w\\in\\mathbb{R}^d_+} -\\frac{1}{n}\\sum\\limits_{i=1}^n u(w^{\\top}X_i) + \\lambda\\|w\\|_1.$$\n",
    "where $u$ is a utility function.\n",
    "In our implementation, we use logarithmic utility (`func=0`) and exponential utility (`func=1` and `a=1` by default).\n",
    "\n",
    "\n",
    "\n"
   ]
  },
  {
   "cell_type": "markdown",
   "id": "f86fd726",
   "metadata": {},
   "source": [
    "As an example, we generate $n_{\\lambda}=50$ $\\lambda$'s uniformly spaced from $\\lambda_{\\max}$ to $10^{-2}\\lambda_{\\max}$ in the log scale.\n",
    "This is automatically done internally when calling our main function `spo_l1_path`. Note that there are some other parameters that can be specified to suit one's need.\n",
    "Please refer to the document by command `?spo_l1_path` after importing the function."
   ]
  },
  {
   "cell_type": "code",
   "execution_count": 10,
   "id": "aaf0f233",
   "metadata": {},
   "outputs": [
    {
     "name": "stderr",
     "output_type": "stream",
     "text": [
      "100%|███████████████████████████████████████████| 50/50 [00:00<00:00, 87.49it/s]\n"
     ]
    }
   ],
   "source": [
    "from spo import spo_l1_path\n",
    "ws, lambdas, gaps, n_iters, n_active_features = spo_l1_path(X, func=0,\n",
    "    n_lambdas=50, screen=True, max_iter=int(1e4), f=200, tol=1e-3)"
   ]
  },
  {
   "cell_type": "markdown",
   "id": "374311fe",
   "metadata": {},
   "source": [
    "The resulting portfoluo weights `ws` are of shape $(d,n_{\\lambda})$."
   ]
  },
  {
   "cell_type": "code",
   "execution_count": 15,
   "id": "7cb426bc",
   "metadata": {},
   "outputs": [
    {
     "data": {
      "text/plain": [
       "(100, 50)"
      ]
     },
     "execution_count": 15,
     "metadata": {},
     "output_type": "execute_result"
    }
   ],
   "source": [
    "ws.shape"
   ]
  },
  {
   "cell_type": "code",
   "execution_count": 14,
   "id": "d75965ce",
   "metadata": {},
   "outputs": [
    {
     "data": {
      "text/plain": [
       "array([0, 1, 1, 2, 3, 3, 3, 3, 3, 3, 3, 3, 3, 3, 3, 3, 3, 3, 3, 3, 3, 3,\n",
       "       3, 3, 3, 3, 3, 3, 3, 3, 3, 3, 3, 3, 3, 3, 3, 3, 3, 3, 3, 3, 3, 3,\n",
       "       3, 3, 3, 3, 4, 4])"
      ]
     },
     "execution_count": 14,
     "metadata": {},
     "output_type": "execute_result"
    }
   ],
   "source": [
    "np.sum(ws>0., axis=0)"
   ]
  },
  {
   "cell_type": "markdown",
   "id": "26fb914b",
   "metadata": {},
   "source": [
    "One can further use cross-validation to determine the best $\\lambda$ and test it on the new data."
   ]
  }
 ],
 "metadata": {
  "hide_input": false,
  "kernelspec": {
   "display_name": "Python 3 (ipykernel)",
   "language": "python",
   "name": "python3"
  },
  "language_info": {
   "codemirror_mode": {
    "name": "ipython",
    "version": 3
   },
   "file_extension": ".py",
   "mimetype": "text/x-python",
   "name": "python",
   "nbconvert_exporter": "python",
   "pygments_lexer": "ipython3",
   "version": "3.8.12"
  },
  "latex_envs": {
   "LaTeX_envs_menu_present": true,
   "autoclose": false,
   "autocomplete": true,
   "bibliofile": "biblio.bib",
   "cite_by": "apalike",
   "current_citInitial": 1,
   "eqLabelWithNumbers": true,
   "eqNumInitial": 1,
   "hotkeys": {
    "equation": "Ctrl-E",
    "itemize": "Ctrl-I"
   },
   "labels_anchors": false,
   "latex_user_defs": false,
   "report_style_numbering": false,
   "user_envs_cfg": false
  },
  "toc": {
   "base_numbering": 1,
   "nav_menu": {},
   "number_sections": true,
   "sideBar": true,
   "skip_h1_title": false,
   "title_cell": "Table of Contents",
   "title_sidebar": "Contents",
   "toc_cell": false,
   "toc_position": {},
   "toc_section_display": true,
   "toc_window_display": false
  },
  "varInspector": {
   "cols": {
    "lenName": 16,
    "lenType": 16,
    "lenVar": 40
   },
   "kernels_config": {
    "python": {
     "delete_cmd_postfix": "",
     "delete_cmd_prefix": "del ",
     "library": "var_list.py",
     "varRefreshCmd": "print(var_dic_list())"
    },
    "r": {
     "delete_cmd_postfix": ") ",
     "delete_cmd_prefix": "rm(",
     "library": "var_list.r",
     "varRefreshCmd": "cat(var_dic_list()) "
    }
   },
   "types_to_exclude": [
    "module",
    "function",
    "builtin_function_or_method",
    "instance",
    "_Feature"
   ],
   "window_display": false
  }
 },
 "nbformat": 4,
 "nbformat_minor": 5
}
